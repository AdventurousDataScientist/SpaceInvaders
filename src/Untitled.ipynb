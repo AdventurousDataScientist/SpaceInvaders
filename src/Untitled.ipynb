{
 "cells": [
  {
   "cell_type": "code",
   "execution_count": 1,
   "id": "102e060d",
   "metadata": {},
   "outputs": [
    {
     "data": {
      "text/plain": [
       "'C:\\\\Users\\\\Nikhil\\\\Developer\\\\AdventurousProgrammer\\\\Python-SpaceInvaders\\\\src'"
      ]
     },
     "execution_count": 1,
     "metadata": {},
     "output_type": "execute_result"
    }
   ],
   "source": [
    "pwd"
   ]
  },
  {
   "cell_type": "code",
   "execution_count": 8,
   "id": "5853f84e",
   "metadata": {},
   "outputs": [
    {
     "ename": "SyntaxError",
     "evalue": "unterminated string literal (detected at line 1) (1934530165.py, line 1)",
     "output_type": "error",
     "traceback": [
      "\u001b[1;36m  Cell \u001b[1;32mIn[8], line 1\u001b[1;36m\u001b[0m\n\u001b[1;33m    from 'C:\\Users\\Nikhil\\Developer\\AdventurousProgrammer\\Python-SpaceInvaders\\' import src\u001b[0m\n\u001b[1;37m         ^\u001b[0m\n\u001b[1;31mSyntaxError\u001b[0m\u001b[1;31m:\u001b[0m unterminated string literal (detected at line 1)\n"
     ]
    }
   ],
   "source": [
    "from 'C:\\Users\\Nikhil\\Developer\\AdventurousProgrammer\\Python-SpaceInvaders\\' import src"
   ]
  },
  {
   "cell_type": "code",
   "execution_count": 10,
   "id": "87cf0a02",
   "metadata": {},
   "outputs": [
    {
     "ename": "ModuleNotFoundError",
     "evalue": "No module named 'pygame'",
     "output_type": "error",
     "traceback": [
      "\u001b[1;31m---------------------------------------------------------------------------\u001b[0m",
      "\u001b[1;31mModuleNotFoundError\u001b[0m                       Traceback (most recent call last)",
      "Cell \u001b[1;32mIn[10], line 1\u001b[0m\n\u001b[1;32m----> 1\u001b[0m \u001b[38;5;28;01mimport\u001b[39;00m \u001b[38;5;21;01mEnemy\u001b[39;00m\n",
      "File \u001b[1;32m~\\Developer\\AdventurousProgrammer\\Python-SpaceInvaders\\src\\Enemy.py:1\u001b[0m\n\u001b[1;32m----> 1\u001b[0m \u001b[38;5;28;01mimport\u001b[39;00m \u001b[38;5;21;01mpygame\u001b[39;00m\n\u001b[0;32m      2\u001b[0m \u001b[38;5;28;01mimport\u001b[39;00m \u001b[38;5;21;01mrandom\u001b[39;00m\n\u001b[0;32m      3\u001b[0m \u001b[38;5;28;01mimport\u001b[39;00m \u001b[38;5;21;01mmath\u001b[39;00m\n",
      "\u001b[1;31mModuleNotFoundError\u001b[0m: No module named 'pygame'"
     ]
    }
   ],
   "source": [
    "import Enemy"
   ]
  },
  {
   "cell_type": "code",
   "execution_count": 7,
   "id": "9ab3593a",
   "metadata": {},
   "outputs": [
    {
     "name": "stdout",
     "output_type": "stream",
     "text": [
      " Volume in drive C is OS\n",
      " Volume Serial Number is 300E-5120\n",
      "\n",
      " Directory of C:\\Users\\Nikhil\\Developer\\AdventurousProgrammer\\Python-SpaceInvaders\\src\n",
      "\n",
      "11/19/2024  08:14 AM    <DIR>          .\n",
      "11/19/2024  08:14 AM    <DIR>          ..\n",
      "11/19/2024  08:14 AM    <DIR>          .ipynb_checkpoints\n",
      "10/29/2023  09:53 PM    <DIR>          __pycache__\n",
      "10/28/2023  12:03 PM            12,427 Enemy.py\n",
      "10/28/2023  12:03 PM    <DIR>          Entities\n",
      "10/30/2023  07:25 PM               204 levels.csv\n",
      "10/28/2023  12:03 PM             3,766 Player.py\n",
      "11/19/2024  07:56 AM            23,021 PlayGame.py\n",
      "10/28/2023  12:03 PM             4,885 Projectile.py\n",
      "11/19/2024  08:14 AM                72 Untitled.ipynb\n",
      "               6 File(s)         44,375 bytes\n",
      "               5 Dir(s)  270,679,769,088 bytes free\n"
     ]
    }
   ],
   "source": [
    "ls"
   ]
  },
  {
   "cell_type": "code",
   "execution_count": null,
   "id": "62232453",
   "metadata": {},
   "outputs": [],
   "source": []
  }
 ],
 "metadata": {
  "kernelspec": {
   "display_name": "Python 3 (ipykernel)",
   "language": "python",
   "name": "python3"
  },
  "language_info": {
   "codemirror_mode": {
    "name": "ipython",
    "version": 3
   },
   "file_extension": ".py",
   "mimetype": "text/x-python",
   "name": "python",
   "nbconvert_exporter": "python",
   "pygments_lexer": "ipython3",
   "version": "3.11.5"
  }
 },
 "nbformat": 4,
 "nbformat_minor": 5
}
